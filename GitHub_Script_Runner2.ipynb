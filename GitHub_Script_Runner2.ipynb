{
 "cells": [
  {
   "cell_type": "code",
   "execution_count": null,
   "id": "b3518f06",
   "metadata": {},
   "outputs": [],
   "source": [
    "import time\n",
    "import os"
   ]
  },
  {
   "cell_type": "code",
   "execution_count": null,
   "id": "886b1f01",
   "metadata": {},
   "outputs": [],
   "source": [
    "while True:\n",
    "    time.sleep(1)\n",
    "    %store -r runner2\n",
    "    if runner2 == 'pass':       \n",
    "        with open(\"status.txt\", \"r\") as f:\n",
    "            status = f.read()\n",
    "            if status == \"stopped\":\n",
    "                print('In Script_Runner2 we will execute GitHub_Testing_Conditions_optim.')\n",
    "                time.sleep(20)\n",
    "                with open(\"status.txt\", \"w\") as f:\n",
    "                    f.write('stopped_Script_Runner2')\n",
    "                    f.flush()\n",
    "                    os.fsync(f.fileno())\n",
    "                    \n",
    "                    runner3 = 'pass'\n",
    "                    %store runner3\n",
    "                    time.sleep(2)\n",
    "                    runner2 = 'not'\n",
    "                    %store runner2\n",
    "                    \n",
    "                    %run ./GitHub_Testing_Conditions_optim.ipynb\n",
    "        \n",
    "        "
   ]
  },
  {
   "cell_type": "code",
   "execution_count": null,
   "id": "3c291e60",
   "metadata": {},
   "outputs": [],
   "source": []
  },
  {
   "cell_type": "code",
   "execution_count": null,
   "id": "f3942420",
   "metadata": {},
   "outputs": [],
   "source": []
  },
  {
   "cell_type": "code",
   "execution_count": null,
   "id": "48cd77fa",
   "metadata": {},
   "outputs": [],
   "source": []
  },
  {
   "cell_type": "code",
   "execution_count": null,
   "id": "310d1bac",
   "metadata": {},
   "outputs": [],
   "source": []
  },
  {
   "cell_type": "code",
   "execution_count": null,
   "id": "bf680a8f",
   "metadata": {},
   "outputs": [],
   "source": []
  },
  {
   "cell_type": "code",
   "execution_count": null,
   "id": "82454422",
   "metadata": {},
   "outputs": [],
   "source": []
  },
  {
   "cell_type": "code",
   "execution_count": null,
   "id": "537fdf34",
   "metadata": {},
   "outputs": [],
   "source": []
  }
 ],
 "metadata": {
  "kernelspec": {
   "display_name": "Python 3 (ipykernel)",
   "language": "python",
   "name": "python3"
  },
  "language_info": {
   "codemirror_mode": {
    "name": "ipython",
    "version": 3
   },
   "file_extension": ".py",
   "mimetype": "text/x-python",
   "name": "python",
   "nbconvert_exporter": "python",
   "pygments_lexer": "ipython3",
   "version": "3.9.18"
  }
 },
 "nbformat": 4,
 "nbformat_minor": 5
}
