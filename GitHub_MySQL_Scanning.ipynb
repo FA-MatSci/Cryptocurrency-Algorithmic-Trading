{
 "cells": [
  {
   "cell_type": "code",
   "execution_count": null,
   "id": "d7e8a7eb",
   "metadata": {},
   "outputs": [],
   "source": [
    "import mysql.connector\n",
    "import pandas as pd\n",
    "import time\n",
    "import os"
   ]
  },
  {
   "cell_type": "code",
   "execution_count": null,
   "id": "6e2a678e",
   "metadata": {},
   "outputs": [],
   "source": [
    "while True:\n",
    "    time.sleep(5)\n",
    "    # Establish the connection\n",
    "    conn = mysql.connector.connect(host='numbers',user='root',password='password',port='number')\n",
    "    # Create a cursor object\n",
    "    cursor = conn.cursor()\n",
    "        # Execute the query to get schema names\n",
    "    cursor.execute(\"SHOW SCHEMAS\")\n",
    "        # Fetch all results\n",
    "    schemas = cursor.fetchall()\n",
    "        # Close the cursor and connection\n",
    "    cursor.close()\n",
    "    conn.close()\n",
    "        # Load the results into a pandas DataFrame\n",
    "    schema_df = pd.DataFrame(schemas, columns=['MySQL'])\n",
    "    lis=[]\n",
    "    for i in schema_df['MySQL']:\n",
    "        lis.append(i)\n",
    "    %store lis\n"
   ]
  },
  {
   "cell_type": "code",
   "execution_count": null,
   "id": "e863d8d7",
   "metadata": {},
   "outputs": [],
   "source": []
  },
  {
   "cell_type": "code",
   "execution_count": null,
   "id": "a2a0c060",
   "metadata": {},
   "outputs": [],
   "source": []
  },
  {
   "cell_type": "code",
   "execution_count": null,
   "id": "3df5b2b7",
   "metadata": {},
   "outputs": [],
   "source": []
  },
  {
   "cell_type": "code",
   "execution_count": null,
   "id": "f1d76a92",
   "metadata": {},
   "outputs": [],
   "source": []
  },
  {
   "cell_type": "code",
   "execution_count": null,
   "id": "d4a9d771",
   "metadata": {},
   "outputs": [],
   "source": []
  },
  {
   "cell_type": "code",
   "execution_count": null,
   "id": "c4fccc30",
   "metadata": {},
   "outputs": [],
   "source": []
  },
  {
   "cell_type": "code",
   "execution_count": null,
   "id": "4f681f12",
   "metadata": {},
   "outputs": [],
   "source": []
  },
  {
   "cell_type": "code",
   "execution_count": null,
   "id": "494ccb4c",
   "metadata": {},
   "outputs": [],
   "source": []
  }
 ],
 "metadata": {
  "kernelspec": {
   "display_name": "Python 3 (ipykernel)",
   "language": "python",
   "name": "python3"
  },
  "language_info": {
   "codemirror_mode": {
    "name": "ipython",
    "version": 3
   },
   "file_extension": ".py",
   "mimetype": "text/x-python",
   "name": "python",
   "nbconvert_exporter": "python",
   "pygments_lexer": "ipython3",
   "version": "3.9.18"
  }
 },
 "nbformat": 4,
 "nbformat_minor": 5
}
