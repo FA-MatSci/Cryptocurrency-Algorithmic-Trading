{
 "cells": [
  {
   "cell_type": "code",
   "execution_count": null,
   "id": "eaa21ebb",
   "metadata": {},
   "outputs": [],
   "source": [
    "import time\n",
    "import os"
   ]
  },
  {
   "cell_type": "code",
   "execution_count": null,
   "id": "af5423a0",
   "metadata": {},
   "outputs": [],
   "source": [
    "runner = 'pass'\n",
    "%store runner\n",
    "%store -r runner\n",
    "runner"
   ]
  },
  {
   "cell_type": "code",
   "execution_count": null,
   "id": "c3a65322",
   "metadata": {},
   "outputs": [],
   "source": [
    "while True:\n",
    "    time.sleep(1)\n",
    "    %store -r runner          # variable runner must already exist with it being 'pass'\n",
    "    if runner == 'pass':       \n",
    "        with open(\"status.txt\", \"r\") as f:\n",
    "            status = f.read()\n",
    "            if status == \"stopped\":\n",
    "                print('In Script_Runner1 we will execute GitHub_Testing_Conditions_optim.')\n",
    "                time.sleep(20)\n",
    "                with open(\"status.txt\", \"w\") as f:\n",
    "                    f.write('stopped_Script_Runner1')\n",
    "                    f.flush()\n",
    "                    os.fsync(f.fileno())\n",
    "                    \n",
    "                    runner2 = 'pass'\n",
    "                    %store runner2\n",
    "                    time.sleep(2)\n",
    "                    runner = 'not'\n",
    "                    %store runner\n",
    "                    \n",
    "                    %run ./GitHub_Testing_Conditions_optim.ipynb\n",
    "        \n",
    "        "
   ]
  },
  {
   "cell_type": "code",
   "execution_count": null,
   "id": "7a9115d0",
   "metadata": {},
   "outputs": [],
   "source": []
  },
  {
   "cell_type": "code",
   "execution_count": null,
   "id": "7c6eb637",
   "metadata": {},
   "outputs": [],
   "source": []
  },
  {
   "cell_type": "code",
   "execution_count": null,
   "id": "c5875e0c",
   "metadata": {},
   "outputs": [],
   "source": []
  },
  {
   "cell_type": "code",
   "execution_count": null,
   "id": "51d64df3",
   "metadata": {},
   "outputs": [],
   "source": []
  },
  {
   "cell_type": "code",
   "execution_count": null,
   "id": "e04f30df",
   "metadata": {},
   "outputs": [],
   "source": []
  },
  {
   "cell_type": "code",
   "execution_count": null,
   "id": "982e6bfe",
   "metadata": {},
   "outputs": [],
   "source": []
  },
  {
   "cell_type": "code",
   "execution_count": null,
   "id": "93879ed4",
   "metadata": {},
   "outputs": [],
   "source": []
  },
  {
   "cell_type": "code",
   "execution_count": null,
   "id": "03c3a0e1",
   "metadata": {},
   "outputs": [],
   "source": []
  }
 ],
 "metadata": {
  "kernelspec": {
   "display_name": "Python 3 (ipykernel)",
   "language": "python",
   "name": "python3"
  },
  "language_info": {
   "codemirror_mode": {
    "name": "ipython",
    "version": 3
   },
   "file_extension": ".py",
   "mimetype": "text/x-python",
   "name": "python",
   "nbconvert_exporter": "python",
   "pygments_lexer": "ipython3",
   "version": "3.9.18"
  }
 },
 "nbformat": 4,
 "nbformat_minor": 5
}
